{
 "cells": [
  {
   "cell_type": "markdown",
   "metadata": {},
   "source": [
    "# Random Dot Kinematogram Experiment"
   ]
  },
  {
   "cell_type": "code",
   "execution_count": null,
   "metadata": {},
   "outputs": [],
   "source": [
    "from rdktools.rdk_experiment import Experiment\n",
    "from rdktools.rdk_stimuli import RDK\n",
    "from rdktools.rdk_params import Params, get_random_params\n",
    "import numpy as np\n",
    "import dataclasses\n",
    "import os\n",
    "import pygame"
   ]
  },
  {
   "cell_type": "code",
   "execution_count": null,
   "metadata": {},
   "outputs": [],
   "source": [
    "%load_ext autoreload\n",
    "%autoreload 2"
   ]
  },
  {
   "cell_type": "code",
   "execution_count": null,
   "metadata": {},
   "outputs": [],
   "source": [
    "params = Params(N_TRIALS_PER_BATCH=3, N_BATCH=25)\n",
    "coherences, subset_ratio = get_random_params(params)\n",
    "params.SUBSET_RATIO = subset_ratio\n",
    "params.DOT_COHERENCE = coherences\n",
    "rdk = RDK(None, params)"
   ]
  },
  {
   "cell_type": "code",
   "execution_count": null,
   "metadata": {},
   "outputs": [],
   "source": [
    "run_exp = True\n",
    "\n",
    "path = \"experiments/gabriel/\"\n",
    "path += sorted(os.listdir(path))[-1]\n",
    "path = None\n",
    "\n",
    "params = Params(N_TRIALS_PER_BATCH=3, N_BATCH=25)\n",
    "exp = Experiment(params, path, save_data=False, save_gif=False, randomize=True)\n",
    "\n",
    "# Will take around 5 min !\n",
    "if run_exp:\n",
    "    exp.run()\n",
    "    print(\n",
    "        f\"Avg Errors : {exp.results[:, 1].mean():.3f}°, {exp.results[:, 2].mean():.3f}° \\n Avg Decision time : {exp.results[-1].mean() :.0f} frames\"\n",
    "    )\n"
   ]
  },
  {
   "cell_type": "code",
   "execution_count": null,
   "metadata": {},
   "outputs": [],
   "source": [
    "exp.results_pd"
   ]
  },
  {
   "cell_type": "code",
   "execution_count": null,
   "metadata": {},
   "outputs": [],
   "source": [
    "tuple(np.random.randint(255) for _ in range(3))"
   ]
  },
  {
   "cell_type": "code",
   "execution_count": null,
   "metadata": {},
   "outputs": [],
   "source": [
    "exp.results_pd"
   ]
  },
  {
   "cell_type": "code",
   "execution_count": null,
   "metadata": {},
   "outputs": [],
   "source": [
    "exp.load_exp(path)\n",
    "\n",
    "exp.plot_results(\n",
    "    \"heatmap\", \"decision_time\", smoothness=1, resolution=100, use_ratio=True\n",
    ")\n",
    "exp.plot_results(\n",
    "    \"scipy\", \"absolute_error_subset\", smoothness=1, resolution=100, use_ratio=True\n",
    ")\n"
   ]
  },
  {
   "cell_type": "code",
   "execution_count": null,
   "metadata": {},
   "outputs": [],
   "source": []
  }
 ],
 "metadata": {
  "kernelspec": {
   "display_name": "Python 3.10.8 ('RDK_test')",
   "language": "python",
   "name": "python3"
  },
  "language_info": {
   "codemirror_mode": {
    "name": "ipython",
    "version": 3
   },
   "file_extension": ".py",
   "mimetype": "text/x-python",
   "name": "python",
   "nbconvert_exporter": "python",
   "pygments_lexer": "ipython3",
   "version": "3.10.8 (main, Nov 24 2022, 14:13:03) [GCC 11.2.0]"
  },
  "orig_nbformat": 4,
  "vscode": {
   "interpreter": {
    "hash": "fc53dfb8f4589bc940618ff11e3e16173485b3c5373cbfb6b71cc0b61bbdffd8"
   }
  }
 },
 "nbformat": 4,
 "nbformat_minor": 2
}
