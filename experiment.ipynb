{
 "cells": [
  {
   "cell_type": "markdown",
   "metadata": {},
   "source": [
    "# Random Dot Kinematogram Experiment"
   ]
  },
  {
   "cell_type": "code",
   "execution_count": null,
   "metadata": {},
   "outputs": [],
   "source": [
    "from rdktools.rdk_experiment import Experiment\n",
    "from rdktools.rdk_stimuli import RDK\n",
    "from rdktools.rdk_params import Params, get_random_params\n",
    "import numpy as np\n",
    "import dataclasses\n",
    "import os\n",
    "import pygame"
   ]
  },
  {
   "cell_type": "code",
   "execution_count": null,
   "metadata": {},
   "outputs": [],
   "source": [
    "%load_ext autoreload\n",
    "%autoreload 2"
   ]
  },
  {
   "cell_type": "code",
   "execution_count": null,
   "metadata": {},
   "outputs": [],
   "source": [
    "run_exp = True\n",
    "\n",
    "path = None\n",
    "\n",
    "params = Params(N_TRIALS_PER_BATCH=3, N_BATCH=25)\n",
    "exp = Experiment(params, path, save_data=False, save_gif=False, randomize=True)\n",
    "\n",
    "# Will take around 5 min !\n",
    "if run_exp:\n",
    "    exp.run()\n"
   ]
  },
  {
   "cell_type": "code",
   "execution_count": null,
   "metadata": {},
   "outputs": [],
   "source": [
    "path"
   ]
  },
  {
   "cell_type": "code",
   "execution_count": null,
   "metadata": {},
   "outputs": [],
   "source": [
    "exp.results_pd.describe()[['absolute_error_global', 'absolute_error_subset']]"
   ]
  },
  {
   "cell_type": "code",
   "execution_count": null,
   "metadata": {},
   "outputs": [],
   "source": [
    "#exp.load_exp(path)\n",
    "\n",
    "exp.plot_results(\n",
    "    \"heatmap\", \"absolute_error_subset\", smoothness=1.5, resolution=100, use_ratio=True\n",
    ")\n",
    "exp.plot_results(\n",
    "    \"scipy\", \"absolute_error_subset\", smoothness=3, resolution=100, use_ratio=True\n",
    ")\n"
   ]
  }
 ],
 "metadata": {
  "kernelspec": {
   "display_name": "Python 3 (ipykernel)",
   "language": "python",
   "name": "python3"
  },
  "language_info": {
   "codemirror_mode": {
    "name": "ipython",
    "version": 3
   },
   "file_extension": ".py",
   "mimetype": "text/x-python",
   "name": "python",
   "nbconvert_exporter": "python",
   "pygments_lexer": "ipython3",
   "version": "3.10.8"
  },
  "vscode": {
   "interpreter": {
    "hash": "d84a16a5ebb3d70881140343c1fdc62cccbf8e9df0753468b555bfe36a02b504"
   }
  }
 },
 "nbformat": 4,
 "nbformat_minor": 4
}
