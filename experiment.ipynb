{
 "cells": [
  {
   "cell_type": "markdown",
   "metadata": {},
   "source": [
    "# Random Dot Kinematogram Experiment"
   ]
  },
  {
   "cell_type": "code",
   "execution_count": 1,
   "metadata": {},
   "outputs": [
    {
     "name": "stdout",
     "output_type": "stream",
     "text": [
      "pygame 2.1.2 (SDL 2.0.16, Python 3.10.8)\n",
      "Hello from the pygame community. https://www.pygame.org/contribute.html\n"
     ]
    }
   ],
   "source": [
    "from rdktools.rdk_experiment import Experiment\n",
    "import numpy as np"
   ]
  },
  {
   "cell_type": "code",
   "execution_count": 2,
   "metadata": {},
   "outputs": [],
   "source": [
    "%load_ext autoreload\n",
    "%autoreload 2"
   ]
  },
  {
   "cell_type": "code",
   "execution_count": 3,
   "metadata": {},
   "outputs": [
    {
     "name": "stdout",
     "output_type": "stream",
     "text": [
      "[72  4]\n"
     ]
    },
    {
     "name": "stderr",
     "output_type": "stream",
     "text": [
      "/home/gbena/Code/Psychophysics/pygame_rdk/rdktools/rdk_stimuli.py:273: RuntimeWarning: divide by zero encountered in divide\n",
      "  frame *= 255.0 / frame.max()\n",
      "/home/gbena/Code/Psychophysics/pygame_rdk/rdktools/rdk_stimuli.py:273: RuntimeWarning: invalid value encountered in multiply\n",
      "  frame *= 255.0 / frame.max()\n"
     ]
    },
    {
     "name": "stdout",
     "output_type": "stream",
     "text": [
      "[199 163]\n",
      "[152  73]\n",
      "[324 156]\n",
      "[267 165]\n",
      "Avg Error : 3.0223450457150376\n"
     ]
    }
   ],
   "source": [
    "exp = Experiment()\n",
    "exp.run()\n",
    "print(f\"Avg Error : {exp.results[:, 1].mean() } °\")"
   ]
  },
  {
   "cell_type": "code",
   "execution_count": 32,
   "metadata": {},
   "outputs": [],
   "source": [
    "res = np.minimum(np.abs((exp.angles[:, 1] - exp.results[:, 0]))%180, np.abs((exp.angles[:, 1] - 180 + exp.results[:, 0]))%180 )"
   ]
  },
  {
   "cell_type": "code",
   "execution_count": 22,
   "metadata": {},
   "outputs": [
    {
     "data": {
      "text/plain": [
       "(array([ 98,   2,   9, 262, 205]),\n",
       " array([131.63353934, 359.15123573, 343.82131638, 243.58896936,\n",
       "        197.78388844]))"
      ]
     },
     "execution_count": 22,
     "metadata": {},
     "output_type": "execute_result"
    }
   ],
   "source": [
    "exp.angles[:, 1],  exp.results[:, 0]"
   ]
  },
  {
   "cell_type": "code",
   "execution_count": 61,
   "metadata": {},
   "outputs": [],
   "source": [
    "from rdktools.rdk_stimuli import get_mouse_angle\n",
    "from rdktools.rdk_params import Params\n",
    "import dataclasses"
   ]
  },
  {
   "cell_type": "code",
   "execution_count": 52,
   "metadata": {},
   "outputs": [],
   "source": [
    "params = Params()"
   ]
  },
  {
   "cell_type": "code",
   "execution_count": 62,
   "metadata": {},
   "outputs": [
    {
     "data": {
      "text/plain": [
       "{'COL_BLACK': (0, 0, 0),\n",
       " 'COL_WHITE': (255, 255, 255),\n",
       " 'WINDOW_WIDTH': 350,\n",
       " 'WINDOW_HEIGHT': 350,\n",
       " 'APERTURE_RADIUS': 175,\n",
       " 'WINDOW_NAME': 'Random Dot Kinematogram',\n",
       " 'WINDOW_COLOUR': (0, 0, 0),\n",
       " 'TICK_RATE': 60,\n",
       " 'TIME_FIX': 20,\n",
       " 'TIME_ISI': 30,\n",
       " 'TIME_RDK': 300,\n",
       " 'TIME_ITI': 10,\n",
       " 'N_DOTS': 384,\n",
       " 'DOT_SIZE': 3,\n",
       " 'DOT_SPEED': 4,\n",
       " 'DOT_ANGLES': None,\n",
       " 'N_TRIALS': 5,\n",
       " 'DOT_REPETITIONS': 1,\n",
       " 'DOT_COHERENCE': (0.2, 0.8),\n",
       " 'SUBSET_RATIO': 0.1,\n",
       " 'DOT_COLOR': (255, 255, 255),\n",
       " 'APERTURE_WIDTH': 4,\n",
       " 'APERTURE_COLOR': (255, 255, 255),\n",
       " 'FIX_SIZE': (5, 5),\n",
       " 'FIX_COLOR': (255, 255, 255),\n",
       " 'FIX_WIDTH': 2}"
      ]
     },
     "execution_count": 62,
     "metadata": {},
     "output_type": "execute_result"
    }
   ],
   "source": [
    "dataclasses.asdict(params)"
   ]
  }
 ],
 "metadata": {
  "kernelspec": {
   "display_name": "Python 3.10.8 ('RDK')",
   "language": "python",
   "name": "python3"
  },
  "language_info": {
   "codemirror_mode": {
    "name": "ipython",
    "version": 3
   },
   "file_extension": ".py",
   "mimetype": "text/x-python",
   "name": "python",
   "nbconvert_exporter": "python",
   "pygments_lexer": "ipython3",
   "version": "3.10.8"
  },
  "orig_nbformat": 4,
  "vscode": {
   "interpreter": {
    "hash": "d84a16a5ebb3d70881140343c1fdc62cccbf8e9df0753468b555bfe36a02b504"
   }
  }
 },
 "nbformat": 4,
 "nbformat_minor": 2
}
