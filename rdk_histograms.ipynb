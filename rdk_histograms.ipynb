{
  "cells": [
    {
      "cell_type": "code",
      "execution_count": 1,
      "metadata": {
        "id": "A4lOVFU6xI7y"
      },
      "outputs": [],
      "source": [
        "import matplotlib.pyplot as plt\n",
        "import numpy as np"
      ]
    },
    {
      "cell_type": "code",
      "execution_count": 2,
      "metadata": {},
      "outputs": [],
      "source": [
        "%load_ext autoreload\n",
        "%autoreload 2"
      ]
    },
    {
      "attachments": {},
      "cell_type": "markdown",
      "metadata": {},
      "source": [
        "## Theory"
      ]
    },
    {
      "cell_type": "code",
      "execution_count": 3,
      "metadata": {
        "id": "JCI4rLh68DIq"
      },
      "outputs": [],
      "source": [
        "def plot_rdk_hist(fraction_subset, p_subset, p_background, num_dots, num_directions):\n",
        "    p = {\"s\": p_subset, \"b\": p_background}\n",
        "    num_group = dict(s=int(fraction_subset * num_dots))\n",
        "    num_group[\"b\"] = num_dots - num_group[\"s\"]\n",
        "    mu = {}\n",
        "    sigma2 = {}\n",
        "    mu_dir = {}\n",
        "    sigma2_dir = {}\n",
        "    titles = {\"s\": \"subset\", \"b\": \"background\", \"t\": \"total\"}\n",
        "    dirn = {\"s\": -2, \"b\": num_directions // 2}\n",
        "    for k in \"sb\":\n",
        "        for d in \"ci\":\n",
        "            if d == \"c\":\n",
        "                p_cur = p[k]\n",
        "            else:\n",
        "                p_cur = 1 / num_directions\n",
        "            mu[k, d] = num_group[k] * p_cur\n",
        "            sigma2[k, d] = num_group[k] * p_cur * (1 - p_cur)\n",
        "        for param_dir, param_dict in [(mu_dir, mu), (sigma2_dir, sigma2)]:\n",
        "            param_dir[k] = np.ones(num_directions + 1) * param_dict[k, \"i\"]\n",
        "            param_dir[k][dirn[k]] = param_dict[k, \"c\"]\n",
        "            param_dir[k][-1] = param_dir[k][0]\n",
        "    mu_dir[\"t\"] = fraction_subset * mu_dir[\"s\"] + (1 - fraction_subset) * mu_dir[\"b\"]\n",
        "    sigma2_dir[\"t\"] = (\n",
        "        fraction_subset * sigma2_dir[\"s\"] + (1 - fraction_subset) * sigma2_dir[\"b\"]\n",
        "    )\n",
        "    theta = np.linspace(0, 2 * np.pi, num_directions + 1)\n",
        "    plt.figure(figsize=(16, 8))\n",
        "    for i, k in enumerate(\"sbt\"):\n",
        "        normfac = 1 / np.amin(mu_dir[k])\n",
        "        plt.subplot(1, 3, i + 1, polar=True)\n",
        "        plt.polar(theta, normfac * mu_dir[k], color=\"C\" + str(i))\n",
        "        s = np.sqrt(sigma2_dir[k]) * 1.96\n",
        "        plt.fill_between(\n",
        "            theta,\n",
        "            normfac * (mu_dir[k] - s),\n",
        "            normfac * (mu_dir[k] + s),\n",
        "            color=\"C\" + str(i),\n",
        "            alpha=0.2,\n",
        "        )\n",
        "        plt.title(titles[k] + \"\\n\")\n",
        "    plt.tight_layout()"
      ]
    },
    {
      "cell_type": "code",
      "execution_count": 3,
      "metadata": {
        "colab": {
          "base_uri": "https://localhost:8080/",
          "height": 421
        },
        "id": "GjBVj6AYxZS2",
        "outputId": "a00b95b3-0550-419c-be0f-a9fc61ca6b26"
      },
      "outputs": [
        {
          "data": {
            "application/vnd.jupyter.widget-view+json": {
              "model_id": "a28ef2353893456881ede35add0c1a96",
              "version_major": 2,
              "version_minor": 0
            },
            "text/plain": [
              "interactive(children=(FloatSlider(value=0.1, description='fraction_subset', max=1.0), FloatSlider(value=0.9, d…"
            ]
          },
          "metadata": {},
          "output_type": "display_data"
        }
      ],
      "source": [
        "import ipywidgets as widgets\n",
        "\n",
        "\n",
        "@widgets.interact(\n",
        "    fraction_subset=widgets.FloatSlider(0.1, min=0.0, max=1.0, step=0.1),\n",
        "    p_subset=widgets.FloatSlider(0.9, min=0.0, max=1.0, step=0.1),\n",
        "    p_background=widgets.FloatSlider(0.2, min=0.0, max=1.0, step=0.1),\n",
        "    num_dots=widgets.IntSlider(500, min=10, max=1000, step=10),\n",
        "    num_directions=widgets.IntSlider(180, min=10, max=360, step=10),\n",
        ")\n",
        "def plot_interactive(fraction_subset, p_subset, p_background, num_dots, num_directions):\n",
        "    plot_rdk_hist(fraction_subset, p_subset, p_background, num_dots, num_directions)\n"
      ]
    },
    {
      "attachments": {},
      "cell_type": "markdown",
      "metadata": {},
      "source": [
        "## From RDK actual sampling"
      ]
    },
    {
      "cell_type": "code",
      "execution_count": 3,
      "metadata": {},
      "outputs": [
        {
          "name": "stdout",
          "output_type": "stream",
          "text": [
            "pygame 2.1.2 (SDL 2.0.16, Python 3.10.8)\n",
            "Hello from the pygame community. https://www.pygame.org/contribute.html\n"
          ]
        }
      ],
      "source": [
        "from rdktools.rdk_params import Params, get_random_params\n",
        "from rdktools.rdk_stimuli import RDK\n",
        "from rdktools.rdk_experiment import other_angle, Experiment\n"
      ]
    },
    {
      "cell_type": "code",
      "execution_count": 4,
      "metadata": {},
      "outputs": [
        {
          "data": {
            "application/vnd.jupyter.widget-view+json": {
              "model_id": "f5d5e93730124883acaffdd2205b73e4",
              "version_major": 2,
              "version_minor": 0
            },
            "text/plain": [
              "interactive(children=(FloatSlider(value=0.1, description='fraction_subset', max=1.0, step=0.05), FloatSlider(v…"
            ]
          },
          "metadata": {},
          "output_type": "display_data"
        },
        {
          "data": {
            "application/vnd.jupyter.widget-view+json": {
              "model_id": "e8008f5c82554995bc4903d048af067e",
              "version_major": 2,
              "version_minor": 0
            },
            "text/plain": [
              "Button(description='Lauch Exp!', style=ButtonStyle())"
            ]
          },
          "metadata": {},
          "output_type": "display_data"
        },
        {
          "data": {
            "application/vnd.jupyter.widget-view+json": {
              "model_id": "066c9de145d44790916a4d4e00c3e0b5",
              "version_major": 2,
              "version_minor": 0
            },
            "text/plain": [
              "Output()"
            ]
          },
          "metadata": {},
          "output_type": "display_data"
        }
      ],
      "source": [
        "import ipywidgets as widgets\n",
        "from IPython.display import display\n",
        "\n",
        "\n",
        "def get_hist(theta, nbins=50):\n",
        "\n",
        "    radii, thetas = [list(d) for d in np.histogram(theta, bins=nbins)[:2]]\n",
        "\n",
        "    thetas = [(r1 + r2) / 2 for r1, r2 in zip(thetas[:-1], thetas[1:])]\n",
        "    thetas.append(thetas[0]), radii.append(radii[0])\n",
        "\n",
        "    thetas = np.deg2rad(thetas)\n",
        "    radii = np.array(radii)  # / np.max(radii)\n",
        "\n",
        "    return thetas, radii\n",
        "\n",
        "\n",
        "def plot_rdk_motions_and_launch(\n",
        "    fraction_subset,\n",
        "    p_subset,\n",
        "    p_background,\n",
        "    diffusion,\n",
        "    name,\n",
        "    num_batches,\n",
        "    num_examples_per_batch,\n",
        "):\n",
        "\n",
        "    params = Params(N_TRIALS_PER_BATCH=num_examples_per_batch, N_BATCH=num_batches)\n",
        "\n",
        "    # angles = (angle_s, angle_b)\n",
        "    angles = [0, 90]\n",
        "\n",
        "    params.SUBSET_RATIO = fraction_subset\n",
        "    params.DOT_COHERENCE = [p_background, p_subset]\n",
        "    params.DIFFUSION_SCALE = diffusion\n",
        "    params.NAME = name\n",
        "\n",
        "    rdk = RDK(None, params)\n",
        "    thetas = [0, 0]\n",
        "    theta = []\n",
        "    rdk.new_sample(angles)\n",
        "    angles = np.deg2rad(angles)\n",
        "\n",
        "    rdk.sample_dots(rdk.max_radius, rdk.ndots)\n",
        "\n",
        "    for _ in range(100):\n",
        "        rdk.update()\n",
        "        if rdk.rand < p_subset:\n",
        "            thetas[0] = rdk.dot_motiondirs\n",
        "        else:\n",
        "            thetas[1] = rdk.dot_motiondirs\n",
        "\n",
        "        theta.append(rdk.dot_motiondirs)\n",
        "\n",
        "    fig, axs = plt.subplots(1, 3, subplot_kw={\"projection\": \"polar\"}, figsize=(10, 5))\n",
        "\n",
        "    axs[0].plot(*get_hist(thetas[0]), label=\"dots\")\n",
        "    axs[0].set_title(\"Subset Moving\")\n",
        "    axs[1].plot(*get_hist(thetas[1]), label=\"dots\")\n",
        "    axs[1].set_title(\"Subset Random\")\n",
        "    axs[2].plot(*get_hist(np.concatenate(theta)), label=\"dots\")\n",
        "    axs[2].set_title(\"Average\")\n",
        "\n",
        "    [ax.get_yaxis().set_visible(False) for ax in axs]\n",
        "    # [[ax.vlines([a], [0], [1], color=c, label=l, linestyle='--') for a, c, l in zip(angles, ['b', 'r'], ['global', 'subset'])] for ax in axs]\n",
        "    # [ax.legend() for ax in axs]\n",
        "\n",
        "    return params\n",
        "\n",
        "\n",
        "controls = {\n",
        "    \"fraction_subset\": widgets.FloatSlider(0.1, min=0.0, max=1.0, step=0.05),\n",
        "    \"p_subset\": widgets.FloatSlider(0.9, min=0.0, max=1.0, step=0.05),\n",
        "    \"p_background\": widgets.FloatSlider(0.2, min=0.0, max=1.0, step=0.1),\n",
        "    \"num_batches\": widgets.IntSlider(10, min=1, max=30, step=1),\n",
        "    \"num_examples_per_batch\": widgets.IntSlider(3, min=1, max=10, step=1),\n",
        "    # angle_s = widgets.IntSlider(90, min=0, max=360, step=10),\n",
        "    # angle_b = widgets.IntSlider(0, min=0, max=360, step=10),\n",
        "    \"diffusion\": widgets.IntSlider(0, min=0, max=360, step=1),\n",
        "    \"name\": widgets.Text(\n",
        "        value=\"gabriel\", placeholder=\"type your name\", description=\"Name\"\n",
        "    ),\n",
        "}\n",
        "\n",
        "interactive_exp = widgets.interactive(plot_rdk_motions_and_launch, **controls)\n",
        "\n",
        "display(interactive_exp)\n",
        "\n",
        "exp = Experiment(interactive_exp.result,\n",
        " None, save_data=False, save_gif=False, randomize=False\n",
        ")\n",
        "\n",
        "button = widgets.Button(description=\"Lauch Experiment!\")\n",
        "output = widgets.Output()\n",
        "\n",
        "display(button, output)\n",
        "\n",
        "def on_button_clicked(button):\n",
        "    exp.__init__(interactive_exp.result, None, save_data=False, save_gif=False, randomize=False)\n",
        "    with output:\n",
        "        exp.run()\n",
        "\n",
        "    return exp\n",
        "\n",
        "button.on_click(on_button_clicked)"
      ]
    },
    {
      "cell_type": "code",
      "execution_count": 8,
      "metadata": {},
      "outputs": [
        {
          "data": {
            "text/html": [
              "<div>\n",
              "<style scoped>\n",
              "    .dataframe tbody tr th:only-of-type {\n",
              "        vertical-align: middle;\n",
              "    }\n",
              "\n",
              "    .dataframe tbody tr th {\n",
              "        vertical-align: top;\n",
              "    }\n",
              "\n",
              "    .dataframe thead th {\n",
              "        text-align: right;\n",
              "    }\n",
              "</style>\n",
              "<table border=\"1\" class=\"dataframe\">\n",
              "  <thead>\n",
              "    <tr style=\"text-align: right;\">\n",
              "      <th></th>\n",
              "      <th>absolute_error_global</th>\n",
              "      <th>absolute_error_subset</th>\n",
              "    </tr>\n",
              "  </thead>\n",
              "  <tbody>\n",
              "    <tr>\n",
              "      <th>count</th>\n",
              "      <td>10.000000</td>\n",
              "      <td>10.000000</td>\n",
              "    </tr>\n",
              "    <tr>\n",
              "      <th>mean</th>\n",
              "      <td>85.732275</td>\n",
              "      <td>22.820883</td>\n",
              "    </tr>\n",
              "    <tr>\n",
              "      <th>std</th>\n",
              "      <td>38.893753</td>\n",
              "      <td>45.964062</td>\n",
              "    </tr>\n",
              "    <tr>\n",
              "      <th>min</th>\n",
              "      <td>19.354221</td>\n",
              "      <td>1.301319</td>\n",
              "    </tr>\n",
              "    <tr>\n",
              "      <th>25%</th>\n",
              "      <td>73.248427</td>\n",
              "      <td>3.708675</td>\n",
              "    </tr>\n",
              "    <tr>\n",
              "      <th>50%</th>\n",
              "      <td>85.763964</td>\n",
              "      <td>6.022197</td>\n",
              "    </tr>\n",
              "    <tr>\n",
              "      <th>75%</th>\n",
              "      <td>104.402282</td>\n",
              "      <td>14.972274</td>\n",
              "    </tr>\n",
              "    <tr>\n",
              "      <th>max</th>\n",
              "      <td>152.877401</td>\n",
              "      <td>151.691558</td>\n",
              "    </tr>\n",
              "  </tbody>\n",
              "</table>\n",
              "</div>"
            ],
            "text/plain": [
              "       absolute_error_global  absolute_error_subset\n",
              "count              10.000000              10.000000\n",
              "mean               85.732275              22.820883\n",
              "std                38.893753              45.964062\n",
              "min                19.354221               1.301319\n",
              "25%                73.248427               3.708675\n",
              "50%                85.763964               6.022197\n",
              "75%               104.402282              14.972274\n",
              "max               152.877401             151.691558"
            ]
          },
          "execution_count": 8,
          "metadata": {},
          "output_type": "execute_result"
        }
      ],
      "source": [
        "exp.results_pd.describe()[['absolute_error_global', 'absolute_error_subset']]"
      ]
    },
    {
      "cell_type": "code",
      "execution_count": 5,
      "metadata": {},
      "outputs": [
        {
          "data": {
            "text/plain": [
              "Params(NAME='gabriel', WINDOW_WIDTH=300, WINDOW_HEIGHT=300, APERTURE_RADIUS=150, WINDOW_NAME='Random Dot Kinematogram', TICK_RATE=60, TIME_FIX=20, TIME_ISI=30, TIME_RDK=300, TIME_ITI=10, N_DOTS=282, DOT_SIZE=3, DOT_SPEED=4, DOT_ANGLES=None, N_TRIALS_PER_BATCH=10, N_BATCH=1, DOT_REPETITIONS=1, DOT_COHERENCE=[0.5, 0.5], SUBSET_RATIO=0.1, DIFFUSED_DIRECTION=False, APERTURE_WIDTH=4, FIX_SIZE=(5, 5), FIX_WIDTH=2, COL_BLACK=(0, 0, 0), COL_WHITE=(255, 255, 255), COL_BLUE=(30, 144, 255), COL_RED=(178, 34, 34), DOT_COLOR=(255, 255, 255), WINDOW_COLOUR=(0, 0, 0), APERTURE_COLOR=(255, 255, 255), FIX_COLOR=(255, 255, 255))"
            ]
          },
          "execution_count": 5,
          "metadata": {},
          "output_type": "execute_result"
        }
      ],
      "source": [
        "exp.params"
      ]
    }
  ],
  "metadata": {
    "colab": {
      "provenance": []
    },
    "kernelspec": {
      "display_name": "Python 3.10.8 ('RDK')",
      "language": "python",
      "name": "python3"
    },
    "language_info": {
      "codemirror_mode": {
        "name": "ipython",
        "version": 3
      },
      "file_extension": ".py",
      "mimetype": "text/x-python",
      "name": "python",
      "nbconvert_exporter": "python",
      "pygments_lexer": "ipython3",
      "version": "3.10.8"
    },
    "vscode": {
      "interpreter": {
        "hash": "d84a16a5ebb3d70881140343c1fdc62cccbf8e9df0753468b555bfe36a02b504"
      }
    }
  },
  "nbformat": 4,
  "nbformat_minor": 0
}
