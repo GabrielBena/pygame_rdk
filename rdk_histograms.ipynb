{
  "cells": [
    {
      "cell_type": "code",
      "execution_count": 5,
      "metadata": {
        "id": "A4lOVFU6xI7y"
      },
      "outputs": [],
      "source": [
        "import matplotlib.pyplot as plt\n",
        "import numpy as np\n"
      ]
    },
    {
      "cell_type": "code",
      "execution_count": 6,
      "metadata": {},
      "outputs": [
        {
          "name": "stdout",
          "output_type": "stream",
          "text": [
            "The autoreload extension is already loaded. To reload it, use:\n",
            "  %reload_ext autoreload\n"
          ]
        }
      ],
      "source": [
        "%load_ext autoreload\n",
        "%autoreload 2"
      ]
    },
    {
      "attachments": {},
      "cell_type": "markdown",
      "metadata": {},
      "source": [
        "## Theory"
      ]
    },
    {
      "cell_type": "code",
      "execution_count": 3,
      "metadata": {
        "id": "JCI4rLh68DIq"
      },
      "outputs": [],
      "source": [
        "def plot_rdk_hist(fraction_subset, p_subset, p_background, num_dots, num_directions):\n",
        "    p = {\"s\": p_subset, \"b\": p_background}\n",
        "    num_group = dict(s=int(fraction_subset * num_dots))\n",
        "    num_group[\"b\"] = num_dots - num_group[\"s\"]\n",
        "    mu = {}\n",
        "    sigma2 = {}\n",
        "    mu_dir = {}\n",
        "    sigma2_dir = {}\n",
        "    titles = {\"s\": \"subset\", \"b\": \"background\", \"t\": \"total\"}\n",
        "    dirn = {\"s\": -2, \"b\": num_directions // 2}\n",
        "    for k in \"sb\":\n",
        "        for d in \"ci\":\n",
        "            if d == \"c\":\n",
        "                p_cur = p[k]\n",
        "            else:\n",
        "                p_cur = 1 / num_directions\n",
        "            mu[k, d] = num_group[k] * p_cur\n",
        "            sigma2[k, d] = num_group[k] * p_cur * (1 - p_cur)\n",
        "        for param_dir, param_dict in [(mu_dir, mu), (sigma2_dir, sigma2)]:\n",
        "            param_dir[k] = np.ones(num_directions + 1) * param_dict[k, \"i\"]\n",
        "            param_dir[k][dirn[k]] = param_dict[k, \"c\"]\n",
        "            param_dir[k][-1] = param_dir[k][0]\n",
        "    mu_dir[\"t\"] = fraction_subset * mu_dir[\"s\"] + (1 - fraction_subset) * mu_dir[\"b\"]\n",
        "    sigma2_dir[\"t\"] = (\n",
        "        fraction_subset * sigma2_dir[\"s\"] + (1 - fraction_subset) * sigma2_dir[\"b\"]\n",
        "    )\n",
        "    theta = np.linspace(0, 2 * np.pi, num_directions + 1)\n",
        "    plt.figure(figsize=(16, 8))\n",
        "    for i, k in enumerate(\"sbt\"):\n",
        "        normfac = 1 / np.amin(mu_dir[k])\n",
        "        plt.subplot(1, 3, i + 1, polar=True)\n",
        "        plt.polar(theta, normfac * mu_dir[k], color=\"C\" + str(i))\n",
        "        s = np.sqrt(sigma2_dir[k]) * 1.96\n",
        "        plt.fill_between(\n",
        "            theta,\n",
        "            normfac * (mu_dir[k] - s),\n",
        "            normfac * (mu_dir[k] + s),\n",
        "            color=\"C\" + str(i),\n",
        "            alpha=0.2,\n",
        "        )\n",
        "        plt.title(titles[k] + \"\\n\")\n",
        "    plt.tight_layout()\n"
      ]
    },
    {
      "cell_type": "code",
      "execution_count": 3,
      "metadata": {
        "colab": {
          "base_uri": "https://localhost:8080/",
          "height": 421
        },
        "id": "GjBVj6AYxZS2",
        "outputId": "a00b95b3-0550-419c-be0f-a9fc61ca6b26"
      },
      "outputs": [
        {
          "data": {
            "application/vnd.jupyter.widget-view+json": {
              "model_id": "a28ef2353893456881ede35add0c1a96",
              "version_major": 2,
              "version_minor": 0
            },
            "text/plain": [
              "interactive(children=(FloatSlider(value=0.1, description='fraction_subset', max=1.0), FloatSlider(value=0.9, d…"
            ]
          },
          "metadata": {},
          "output_type": "display_data"
        }
      ],
      "source": [
        "import ipywidgets as widgets\n",
        "\n",
        "\n",
        "@widgets.interact(\n",
        "    fraction_subset=widgets.FloatSlider(0.1, min=0.0, max=1.0, step=0.1),\n",
        "    p_subset=widgets.FloatSlider(0.9, min=0.0, max=1.0, step=0.1),\n",
        "    p_background=widgets.FloatSlider(0.2, min=0.0, max=1.0, step=0.1),\n",
        "    num_dots=widgets.IntSlider(500, min=10, max=1000, step=10),\n",
        "    num_directions=widgets.IntSlider(180, min=10, max=360, step=10),\n",
        ")\n",
        "def plot_interactive(fraction_subset, p_subset, p_background, num_dots, num_directions):\n",
        "    plot_rdk_hist(fraction_subset, p_subset, p_background, num_dots, num_directions)"
      ]
    },
    {
      "attachments": {},
      "cell_type": "markdown",
      "metadata": {},
      "source": [
        "## From RDK actual sampling"
      ]
    },
    {
      "cell_type": "code",
      "execution_count": 3,
      "metadata": {},
      "outputs": [
        {
          "name": "stdout",
          "output_type": "stream",
          "text": [
            "pygame 2.1.2 (SDL 2.0.16, Python 3.10.8)\n",
            "Hello from the pygame community. https://www.pygame.org/contribute.html\n"
          ]
        }
      ],
      "source": [
        "from rdktools.rdk_params import Params, get_random_params\n",
        "from rdktools.rdk_stimuli import RDK\n",
        "from rdktools.rdk_experiment import other_angle, Experiment\n"
      ]
    },
    {
      "cell_type": "code",
      "execution_count": 136,
      "metadata": {},
      "outputs": [],
      "source": [
        "import ipywidgets as widgets\n",
        "from IPython.display import display, HTML\n",
        "\n",
        "\n",
        "def get_hist(theta, nbins=50):\n",
        "\n",
        "    radii, thetas = [list(d) for d in np.histogram(theta, bins=nbins)[:2]]\n",
        "\n",
        "    thetas = [(r1 + r2) / 2 for r1, r2 in zip(thetas[:-1], thetas[1:])]\n",
        "    thetas.append(thetas[0]), radii.append(radii[0])\n",
        "\n",
        "    thetas = np.deg2rad(thetas)\n",
        "    radii = np.array(radii)  # / np.max(radii)\n",
        "\n",
        "    return thetas, radii\n",
        "\n",
        "\n",
        "def plot_rdk(rdk, p_subset):\n",
        "\n",
        "    thetas = [[] for _ in range(3)]\n",
        "\n",
        "\n",
        "    rdk.sample_dots(rdk.max_radius, rdk.ndots)\n",
        "\n",
        "    for _ in range(int(1000)):\n",
        "        rdk.update()\n",
        "        if rdk.rand < p_subset:\n",
        "            thetas[0].append(rdk.dot_motiondirs)\n",
        "        else:\n",
        "            thetas[1].append(rdk.dot_motiondirs)\n",
        "\n",
        "        thetas[2].append(rdk.dot_motiondirs)\n",
        "\n",
        "    thetas = [np.concatenate(t) for t in thetas]\n",
        "\n",
        "    fig, axs = plt.subplots(1, 3, subplot_kw={\"projection\": \"polar\"}, figsize=(10, 5))\n",
        "\n",
        "    axs[0].plot(*get_hist(thetas[0]), label=\"dots\")\n",
        "    axs[0].set_title(\"Subset Moving\")\n",
        "    axs[1].plot(*get_hist(thetas[1]), label=\"dots\")\n",
        "    axs[1].set_title(\"Subset Random\")\n",
        "    axs[2].plot(*get_hist(thetas[2]), label=\"dots\")\n",
        "    axs[2].set_title(\"Average\")\n",
        "\n",
        "    [ax.get_yaxis().set_visible(False) for ax in axs]\n",
        "    # [[ax.vlines([a], [0], [1], color=c, label=l, linestyle='--') for a, c, l in zip(angles, ['b', 'r'], ['global', 'subset'])] for ax in axs]\n",
        "    # [ax.legend() for ax in axs]\n",
        "\n",
        "\n",
        "def plot_rdk_motions_and_launch(\n",
        "    fraction_subset,\n",
        "    p_subset,\n",
        "    temp_coherent,\n",
        "    p_background,\n",
        "    diffusion,\n",
        "    diffuse_subset,\n",
        "    name,\n",
        "    comod,\n",
        "    n_angles,\n",
        "):\n",
        "\n",
        "    params = Params(\n",
        "        N_TRIALS_PER_BATCH=10,\n",
        "        N_BATCH=1,\n",
        "        TEMPORALLY_COHERENT=True,\n",
        "    )\n",
        "\n",
        "    # angles = (angle_s, angle_b)\n",
        "\n",
        "    params.SUBSET_RATIO = fraction_subset\n",
        "    params.TEMPORALLY_COHERENT = temp_coherent\n",
        "    \n",
        "    params.DIFFUSION_SCALE = diffusion\n",
        "    params.DIFFUSE_SUBSET = diffuse_subset\n",
        "    params.NAME = name\n",
        "    params.COMOD = comod\n",
        "    params.N_ANGLES = n_angles\n",
        "\n",
        "    if not comod : \n",
        "        angles = [0, 90]\n",
        "        params.DOT_COHERENCE = [p_background, p_subset]\n",
        "    else : \n",
        "        angles = np.linspace(0, 360, n_angles, endpoint=False)\n",
        "        params.DOT_COHERENCE = [p_subset for _ in range(n_angles)]\n",
        "\n",
        "    rdk = RDK(None, params)\n",
        "    rdk.new_sample(angles)\n",
        "    angles = np.deg2rad(angles)\n",
        "\n",
        "    plot_rdk(rdk, p_subset)\n",
        "\n",
        "    print(np.unique(rdk.motiondirs))\n",
        "\n",
        "    return params\n",
        "\n",
        "style = {'description_width' : 'initial'}\n",
        "\n",
        "controls = {\n",
        "    \"fraction_subset\": widgets.FloatSlider(0.1, min=0.0, max=1.0, step=0.05, style=style),\n",
        "    \"p_subset\": widgets.FloatSlider(0.9, min=0.0, max=1.0, step=0.05, style=style),\n",
        "    \"temp_coherent\": widgets.ToggleButton(value=True, description=\"Temporally Coherent ?\", style=style),\n",
        "    \"p_background\": widgets.FloatSlider(0.2, min=0.0, max=1.0, step=0.1, style=style),\n",
        "    #\"num_batches\": widgets.IntSlider(10, min=1, max=30, step=1, style=style),\n",
        "    #\"num_examples_per_batch\": widgets.IntSlider(3, min=1, max=10, step=1, style=style),\n",
        "    # angle_s = widgets.IntSlider(90, min=0, max=360, step=10),\n",
        "    # angle_b = widgets.IntSlider(0, min=0, max=360, step=10),\n",
        "    \"diffusion\": widgets.IntSlider(0, min=0, max=360, step=1, style=style),\n",
        "    \"diffuse_subset\": widgets.ToggleButton(value=False, description=\"Diffuse Subset ?\", style=style),\n",
        "    \"comod\" : widgets.ToggleButton(value=False, description=\"COMOD ?\", style=style),\n",
        "    'n_angles' : widgets.IntSlider(4, min=2, max=20, step=1, style=style),\n",
        "    \"name\": widgets.Text(\n",
        "        value=\"gabriel\", placeholder=\"type your name\", description=\"Name\", style=style\n",
        "    ),\n",
        "}"
      ]
    },
    {
      "cell_type": "code",
      "execution_count": 137,
      "metadata": {},
      "outputs": [
        {
          "data": {
            "application/vnd.jupyter.widget-view+json": {
              "model_id": "a67ff91c79194e189129e3fd053bbc9f",
              "version_major": 2,
              "version_minor": 0
            },
            "text/plain": [
              "interactive(children=(FloatSlider(value=0.1, description='fraction_subset', max=1.0, step=0.05, style=SliderSt…"
            ]
          },
          "metadata": {},
          "output_type": "display_data"
        },
        {
          "data": {
            "application/vnd.jupyter.widget-view+json": {
              "model_id": "6e8ade809f864537bc7542bbf33719ff",
              "version_major": 2,
              "version_minor": 0
            },
            "text/plain": [
              "Button(description='Lauch Experiment!', style=ButtonStyle())"
            ]
          },
          "metadata": {},
          "output_type": "display_data"
        },
        {
          "data": {
            "application/vnd.jupyter.widget-view+json": {
              "model_id": "900af575e5af4e09a0a664e7cae77c21",
              "version_major": 2,
              "version_minor": 0
            },
            "text/plain": [
              "Output()"
            ]
          },
          "metadata": {},
          "output_type": "display_data"
        }
      ],
      "source": [
        "interactive_exp = widgets.interactive(plot_rdk_motions_and_launch, **controls, layout={'width': '5000px'})\n",
        "\n",
        "display(interactive_exp)\n",
        "\n",
        "exp = Experiment(\n",
        "    interactive_exp.result, None, save_data=False, save_gif=False, randomize=False\n",
        ")\n",
        "\n",
        "button = widgets.Button(description=\"Lauch Experiment!\")\n",
        "output = widgets.Output()\n",
        "\n",
        "display(button, output, width='10000')\n",
        "\n",
        "def on_button_clicked(button):\n",
        "    exp.__init__(\n",
        "        interactive_exp.result, None, save_data=False, save_gif=False, randomize=False\n",
        "    )\n",
        "    with output:\n",
        "        exp.run()\n",
        "\n",
        "    return exp\n",
        "\n",
        "button.on_click(on_button_clicked)"
      ]
    },
    {
      "cell_type": "code",
      "execution_count": 179,
      "metadata": {},
      "outputs": [],
      "source": [
        "from scipy.optimize import minimize, NonlinearConstraint\n",
        "def get_n_colors(n_angles) : \n",
        "    \n",
        "    p = [1, -3, 2, 0]\n",
        "    f_to_min = lambda x : np.polyval(p, x) - n_angles\n",
        "    x_min = minimize(f_to_min, 3, constraints= NonlinearConstraint(f_to_min, 0, np.inf) )\n",
        "    return np.ceil(x_min.x).astype(int)[0]"
      ]
    },
    {
      "cell_type": "code",
      "execution_count": 180,
      "metadata": {},
      "outputs": [
        {
          "data": {
            "text/plain": [
              "[array([  0.,  85., 170., 255.]),\n",
              " array([  0.,  85., 170., 255.]),\n",
              " array([  0.,  85., 170., 255.])]"
            ]
          },
          "execution_count": 180,
          "metadata": {},
          "output_type": "execute_result"
        }
      ],
      "source": [
        "n_angles = 8\n",
        "\n"
      ]
    },
    {
      "cell_type": "code",
      "execution_count": 249,
      "metadata": {},
      "outputs": [],
      "source": [
        "def get_random_colors(n_angles) : \n",
        "    n_colors = get_n_colors(n_angles)\n",
        "    colors = np.linspace(0, 255, n_colors).astype(int)\n",
        "    col_idxs = np.random.choice(np.arange(n_colors), size=3, replace=False)\n",
        "    col_idxs = [(col_idxs + i)%n_colors for i in range(n_angles)]\n",
        "    return [colors[idx] for i, idx in enumerate(col_idxs)]\n"
      ]
    },
    {
      "cell_type": "code",
      "execution_count": 255,
      "metadata": {},
      "outputs": [
        {
          "data": {
            "text/plain": [
              "array([[  0, 255, 170],\n",
              "       [ 85,   0, 255],\n",
              "       [170,  85,   0],\n",
              "       [255, 170,  85]])"
            ]
          },
          "execution_count": 255,
          "metadata": {},
          "output_type": "execute_result"
        }
      ],
      "source": [
        "colors = get_random_colors(20)\n",
        "np.unique(np.stack(colors), axis=0)"
      ]
    },
    {
      "cell_type": "code",
      "execution_count": 251,
      "metadata": {},
      "outputs": [
        {
          "name": "stderr",
          "output_type": "stream",
          "text": [
            "Clipping input data to the valid range for imshow with RGB data ([0..1] for floats or [0..255] for integers).\n",
            "Clipping input data to the valid range for imshow with RGB data ([0..1] for floats or [0..255] for integers).\n",
            "Clipping input data to the valid range for imshow with RGB data ([0..1] for floats or [0..255] for integers).\n"
          ]
        },
        {
          "data": {
            "image/png": "[encoded data removed]",
            "text/plain": [
              "<Figure size 640x480 with 3 Axes>"
            ]
          },
          "metadata": {},
          "output_type": "display_data"
        }
      ],
      "source": [
        "fig, axs = plt.subplots(3, 1)\n",
        "for ax, c in zip(axs, colors) : \n",
        "    ax.imshow(np.ones((10, 10, 3)) * c)"
      ]
    },
    {
      "cell_type": "code",
      "execution_count": 139,
      "metadata": {},
      "outputs": [
        {
          "ename": "AttributeError",
          "evalue": "'Experiment' object has no attribute 'results_pd'",
          "output_type": "error",
          "traceback": [
            "\u001b[0;31m---------------------------------------------------------------------------\u001b[0m",
            "\u001b[0;31mAttributeError\u001b[0m                            Traceback (most recent call last)",
            "Cell \u001b[0;32mIn [139], line 1\u001b[0m\n\u001b[0;32m----> 1\u001b[0m exp\u001b[39m.\u001b[39;49mresults_pd\u001b[39m.\u001b[39mdescribe()[[\u001b[39m\"\u001b[39m\u001b[39mabsolute_error_global\u001b[39m\u001b[39m\"\u001b[39m, \u001b[39m\"\u001b[39m\u001b[39mabsolute_error_subset\u001b[39m\u001b[39m\"\u001b[39m]]\n",
            "\u001b[0;31mAttributeError\u001b[0m: 'Experiment' object has no attribute 'results_pd'"
          ]
        }
      ],
      "source": [
        "exp.results_pd.describe()[[\"absolute_error_global\", \"absolute_error_subset\"]]"
      ]
    },
    {
      "cell_type": "code",
      "execution_count": 10,
      "metadata": {},
      "outputs": [
        {
          "data": {
            "text/plain": [
              "Params(NAME='gabriel', WINDOW_WIDTH=300, WINDOW_HEIGHT=300, APERTURE_RADIUS=150, WINDOW_NAME='Random Dot Kinematogram', TICK_RATE=60, TIME_FIX=20, TIME_ISI=30, TIME_RDK=300, TIME_ITI=10, N_DOTS=282, DOT_SIZE=3, DOT_SPEED=4, DOT_ANGLES=None, N_TRIALS_PER_BATCH=3, N_BATCH=10, DOT_REPETITIONS=1, DOT_COHERENCE=[0.3, 0.9], SUBSET_RATIO=0.1, DIFFUSED_DIRECTION=False, APERTURE_WIDTH=4, FIX_SIZE=(5, 5), FIX_WIDTH=2, COL_BLACK=(0, 0, 0), COL_WHITE=(255, 255, 255), COL_BLUE=(30, 144, 255), COL_RED=(178, 34, 34), DOT_COLOR=(255, 255, 255), WINDOW_COLOUR=(0, 0, 0), APERTURE_COLOR=(255, 255, 255), FIX_COLOR=(255, 255, 255))"
            ]
          },
          "execution_count": 10,
          "metadata": {},
          "output_type": "execute_result"
        }
      ],
      "source": [
        "exp.params\n"
      ]
    },
    {
      "attachments": {},
      "cell_type": "markdown",
      "metadata": {},
      "source": [
        "## Comod Task"
      ]
    },
    {
      "cell_type": "code",
      "execution_count": 96,
      "metadata": {},
      "outputs": [
        {
          "data": {
            "application/vnd.jupyter.widget-view+json": {
              "model_id": "fe45f1a3dd044b489caab6f3691b5c31",
              "version_major": 2,
              "version_minor": 0
            },
            "text/plain": [
              "interactive(children=(IntSlider(value=4, description='n_angles', max=20, min=2, style=SliderStyle(description_…"
            ]
          },
          "metadata": {},
          "output_type": "display_data"
        }
      ],
      "source": [
        "from rdktools.rdk_stimuli import RDK\n",
        "\n",
        "def plot_comod_rdk(n_angles) : \n",
        "        \n",
        "    coherences = [1/n_angles for _ in range(n_angles)]\n",
        "\n",
        "    angles = np.linspace(0, 360, n_angles, endpoint=False)\n",
        "    p_subset = [1/n_angles for _ in range(n_angles)]\n",
        "    params = Params(DOT_COHERENCE=coherences, N_DOTS=500)\n",
        "\n",
        "    rdk = RDK(None, params, angles)\n",
        "\n",
        "    plot_rdk(rdk, coherences[0])\n",
        "    \n",
        "controls = {\n",
        "    \"n_angles\": widgets.IntSlider(4, min=2, max=20, step=1, style=style) }\n",
        "\n",
        "interactive_plot = widgets.interactive(plot_comod_rdk, **controls, layout={'width': '5000px'})\n",
        "display(interactive_plot)"
      ]
    },
    {
      "cell_type": "code",
      "execution_count": 98,
      "metadata": {},
      "outputs": [],
      "source": [
        "spaced_out = np.linspace(0, 360, 4, endpoint=False)"
      ]
    },
    {
      "cell_type": "code",
      "execution_count": 99,
      "metadata": {},
      "outputs": [],
      "source": [
        "angles = np.random.randint(0, 360, 10)"
      ]
    },
    {
      "cell_type": "code",
      "execution_count": 106,
      "metadata": {},
      "outputs": [
        {
          "ename": "ValueError",
          "evalue": "setting an array element with a sequence.",
          "output_type": "error",
          "traceback": [
            "\u001b[0;31m---------------------------------------------------------------------------\u001b[0m",
            "\u001b[0;31mTypeError\u001b[0m                                 Traceback (most recent call last)",
            "\u001b[0;31mTypeError\u001b[0m: only size-1 arrays can be converted to Python scalars",
            "\nThe above exception was the direct cause of the following exception:\n",
            "\u001b[0;31mValueError\u001b[0m                                Traceback (most recent call last)",
            "Cell \u001b[0;32mIn [106], line 2\u001b[0m\n\u001b[1;32m      1\u001b[0m v_sum \u001b[39m=\u001b[39m np\u001b[39m.\u001b[39mvectorize(\u001b[39mlambda\u001b[39;00m d : spaced_out\u001b[39m+\u001b[39md)\n\u001b[0;32m----> 2\u001b[0m v_sum(angles)\n",
            "File \u001b[0;32m~/anaconda3/envs/RDK/lib/python3.10/site-packages/numpy/lib/function_base.py:2328\u001b[0m, in \u001b[0;36mvectorize.__call__\u001b[0;34m(self, *args, **kwargs)\u001b[0m\n\u001b[1;32m   2325\u001b[0m     vargs \u001b[39m=\u001b[39m [args[_i] \u001b[39mfor\u001b[39;00m _i \u001b[39min\u001b[39;00m inds]\n\u001b[1;32m   2326\u001b[0m     vargs\u001b[39m.\u001b[39mextend([kwargs[_n] \u001b[39mfor\u001b[39;00m _n \u001b[39min\u001b[39;00m names])\n\u001b[0;32m-> 2328\u001b[0m \u001b[39mreturn\u001b[39;00m \u001b[39mself\u001b[39;49m\u001b[39m.\u001b[39;49m_vectorize_call(func\u001b[39m=\u001b[39;49mfunc, args\u001b[39m=\u001b[39;49mvargs)\n",
            "File \u001b[0;32m~/anaconda3/envs/RDK/lib/python3.10/site-packages/numpy/lib/function_base.py:2414\u001b[0m, in \u001b[0;36mvectorize._vectorize_call\u001b[0;34m(self, func, args)\u001b[0m\n\u001b[1;32m   2411\u001b[0m outputs \u001b[39m=\u001b[39m ufunc(\u001b[39m*\u001b[39minputs)\n\u001b[1;32m   2413\u001b[0m \u001b[39mif\u001b[39;00m ufunc\u001b[39m.\u001b[39mnout \u001b[39m==\u001b[39m \u001b[39m1\u001b[39m:\n\u001b[0;32m-> 2414\u001b[0m     res \u001b[39m=\u001b[39m asanyarray(outputs, dtype\u001b[39m=\u001b[39;49motypes[\u001b[39m0\u001b[39;49m])\n\u001b[1;32m   2415\u001b[0m \u001b[39melse\u001b[39;00m:\n\u001b[1;32m   2416\u001b[0m     res \u001b[39m=\u001b[39m \u001b[39mtuple\u001b[39m([asanyarray(x, dtype\u001b[39m=\u001b[39mt)\n\u001b[1;32m   2417\u001b[0m                  \u001b[39mfor\u001b[39;00m x, t \u001b[39min\u001b[39;00m \u001b[39mzip\u001b[39m(outputs, otypes)])\n",
            "\u001b[0;31mValueError\u001b[0m: setting an array element with a sequence."
          ]
        }
      ],
      "source": [
        "v_sum = np.vectorize(lambda d : spaced_out+d, signature='(n),(d)->(n, d)')\n",
        "v_sum(angles)"
      ]
    },
    {
      "cell_type": "code",
      "execution_count": 109,
      "metadata": {},
      "outputs": [
        {
          "data": {
            "text/plain": [
              "(10, 4)"
            ]
          },
          "execution_count": 109,
          "metadata": {},
          "output_type": "execute_result"
        }
      ],
      "source": []
    },
    {
      "cell_type": "code",
      "execution_count": 86,
      "metadata": {},
      "outputs": [
        {
          "data": {
            "text/plain": [
              "<Group(500 sprites)>"
            ]
          },
          "execution_count": 86,
          "metadata": {},
          "output_type": "execute_result"
        }
      ],
      "source": [
        "rdk.dots"
      ]
    },
    {
      "cell_type": "code",
      "execution_count": 81,
      "metadata": {},
      "outputs": [
        {
          "data": {
            "text/plain": [
              "1"
            ]
          },
          "execution_count": 81,
          "metadata": {},
          "output_type": "execute_result"
        }
      ],
      "source": [
        "np.random.randint(0, 4)"
      ]
    },
    {
      "cell_type": "code",
      "execution_count": 72,
      "metadata": {},
      "outputs": [
        {
          "data": {
            "text/plain": [
              "array([  0.,  90., 180., 270.])"
            ]
          },
          "execution_count": 72,
          "metadata": {},
          "output_type": "execute_result"
        }
      ],
      "source": [
        "angles"
      ]
    }
  ],
  "metadata": {
    "colab": {
      "provenance": []
    },
    "kernelspec": {
      "display_name": "Python 3.10.8 ('RDK')",
      "language": "python",
      "name": "python3"
    },
    "language_info": {
      "codemirror_mode": {
        "name": "ipython",
        "version": 3
      },
      "file_extension": ".py",
      "mimetype": "text/x-python",
      "name": "python",
      "nbconvert_exporter": "python",
      "pygments_lexer": "ipython3",
      "version": "3.10.8"
    },
    "vscode": {
      "interpreter": {
        "hash": "d84a16a5ebb3d70881140343c1fdc62cccbf8e9df0753468b555bfe36a02b504"
      }
    }
  },
  "nbformat": 4,
  "nbformat_minor": 0
}
