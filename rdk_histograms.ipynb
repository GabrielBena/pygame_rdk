{
 "cells": [
  {
   "cell_type": "code",
   "execution_count": null,
   "metadata": {
    "id": "A4lOVFU6xI7y"
   },
   "outputs": [],
   "source": [
    "import matplotlib.pyplot as plt\n",
    "import numpy as np"
   ]
  },
  {
   "cell_type": "code",
   "execution_count": null,
   "metadata": {},
   "outputs": [],
   "source": [
    "%load_ext autoreload\n",
    "%autoreload 2"
   ]
  },
  {
   "cell_type": "markdown",
   "metadata": {},
   "source": [
    "## Theory"
   ]
  },
  {
   "cell_type": "code",
   "execution_count": null,
   "metadata": {
    "id": "JCI4rLh68DIq"
   },
   "outputs": [],
   "source": [
    "def plot_rdk_hist(fraction_subset, p_subset, p_background, num_dots, num_directions):\n",
    "    p = {\"s\": p_subset, \"b\": p_background}\n",
    "    num_group = dict(s=int(fraction_subset * num_dots))\n",
    "    num_group[\"b\"] = num_dots - num_group[\"s\"]\n",
    "    mu = {}\n",
    "    sigma2 = {}\n",
    "    mu_dir = {}\n",
    "    sigma2_dir = {}\n",
    "    titles = {\"s\": \"subset\", \"b\": \"background\", \"t\": \"total\"}\n",
    "    dirn = {\"s\": -2, \"b\": num_directions // 2}\n",
    "    for k in \"sb\":\n",
    "        for d in \"ci\":\n",
    "            if d == \"c\":\n",
    "                p_cur = p[k]\n",
    "            else:\n",
    "                p_cur = 1 / num_directions\n",
    "            mu[k, d] = num_group[k] * p_cur\n",
    "            sigma2[k, d] = num_group[k] * p_cur * (1 - p_cur)\n",
    "        for param_dir, param_dict in [(mu_dir, mu), (sigma2_dir, sigma2)]:\n",
    "            param_dir[k] = np.ones(num_directions + 1) * param_dict[k, \"i\"]\n",
    "            param_dir[k][dirn[k]] = param_dict[k, \"c\"]\n",
    "            param_dir[k][-1] = param_dir[k][0]\n",
    "    mu_dir[\"t\"] = fraction_subset * mu_dir[\"s\"] + (1 - fraction_subset) * mu_dir[\"b\"]\n",
    "    sigma2_dir[\"t\"] = (\n",
    "        fraction_subset * sigma2_dir[\"s\"] + (1 - fraction_subset) * sigma2_dir[\"b\"]\n",
    "    )\n",
    "    theta = np.linspace(0, 2 * np.pi, num_directions + 1)\n",
    "    plt.figure(figsize=(16, 8))\n",
    "    for i, k in enumerate(\"sbt\"):\n",
    "        normfac = 1 / np.amin(mu_dir[k])\n",
    "        plt.subplot(1, 3, i + 1, polar=True)\n",
    "        plt.polar(theta, normfac * mu_dir[k], color=\"C\" + str(i))\n",
    "        s = np.sqrt(sigma2_dir[k]) * 1.96\n",
    "        plt.fill_between(\n",
    "            theta,\n",
    "            normfac * (mu_dir[k] - s),\n",
    "            normfac * (mu_dir[k] + s),\n",
    "            color=\"C\" + str(i),\n",
    "            alpha=0.2,\n",
    "        )\n",
    "        plt.title(titles[k] + \"\\n\")\n",
    "    plt.tight_layout()"
   ]
  },
  {
   "cell_type": "code",
   "execution_count": null,
   "metadata": {
    "colab": {
     "base_uri": "https://localhost:8080/",
     "height": 421
    },
    "id": "GjBVj6AYxZS2",
    "outputId": "a00b95b3-0550-419c-be0f-a9fc61ca6b26"
   },
   "outputs": [],
   "source": [
    "import ipywidgets as widgets\n",
    "\n",
    "\n",
    "@widgets.interact(\n",
    "    fraction_subset=widgets.FloatSlider(0.1, min=0.0, max=1.0, step=0.1),\n",
    "    p_subset=widgets.FloatSlider(0.9, min=0.0, max=1.0, step=0.1),\n",
    "    p_background=widgets.FloatSlider(0.2, min=0.0, max=1.0, step=0.1),\n",
    "    num_dots=widgets.IntSlider(500, min=10, max=1000, step=10),\n",
    "    num_directions=widgets.IntSlider(180, min=10, max=360, step=10),\n",
    ")\n",
    "def plot_interactive(fraction_subset, p_subset, p_background, num_dots, num_directions):\n",
    "    plot_rdk_hist(fraction_subset, p_subset, p_background, num_dots, num_directions)\n"
   ]
  },
  {
   "cell_type": "markdown",
   "metadata": {},
   "source": [
    "## From RDK actual sampling"
   ]
  },
  {
   "cell_type": "code",
   "execution_count": null,
   "metadata": {},
   "outputs": [],
   "source": [
    "from rdktools.rdk_params import Params, get_random_params\n",
    "from rdktools.rdk_stimuli import RDK\n",
    "from rdktools.rdk_experiment import other_angle, Experiment"
   ]
  },
  {
   "cell_type": "code",
   "execution_count": null,
   "metadata": {},
   "outputs": [],
   "source": [
    "import ipywidgets as widgets\n",
    "from IPython.display import display\n",
    "\n",
    "\n",
    "def get_hist(theta, nbins=50):\n",
    "\n",
    "    radii, thetas = [list(d) for d in np.histogram(theta, bins=nbins)[:2]]\n",
    "\n",
    "    thetas = [(r1 + r2) / 2 for r1, r2 in zip(thetas[:-1], thetas[1:])]\n",
    "    thetas.append(thetas[0]), radii.append(radii[0])\n",
    "\n",
    "    thetas = np.deg2rad(thetas)\n",
    "    radii = np.array(radii)  # / np.max(radii)\n",
    "\n",
    "    return thetas, radii\n",
    "\n",
    "\n",
    "def plot_rdk_motions_and_launch(\n",
    "    fraction_subset,\n",
    "    p_subset,\n",
    "    p_background,\n",
    "    diffusion,\n",
    "    diffuse_subset,\n",
    "    name,\n",
    "    num_batches,\n",
    "    num_examples_per_batch,\n",
    "):\n",
    "\n",
    "    params = Params(N_TRIALS_PER_BATCH=num_examples_per_batch, N_BATCH=num_batches)\n",
    "\n",
    "    # angles = (angle_s, angle_b)\n",
    "    angles = [0, 90]\n",
    "\n",
    "    params.SUBSET_RATIO = fraction_subset\n",
    "    params.DOT_COHERENCE = [p_background, p_subset]\n",
    "    params.DIFFUSION_SCALE = diffusion\n",
    "    params.DIFFUSE_SUBSET = diffuse_subset\n",
    "    params.NAME = name\n",
    "\n",
    "    rdk = RDK(None, params)\n",
    "    thetas = [0, 0]\n",
    "    theta = []\n",
    "    rdk.new_sample(angles)\n",
    "    angles = np.deg2rad(angles)\n",
    "\n",
    "    rdk.sample_dots(rdk.max_radius, rdk.ndots)\n",
    "\n",
    "    for _ in range(100):\n",
    "        rdk.update()\n",
    "        if rdk.rand < p_subset:\n",
    "            thetas[0] = rdk.dot_motiondirs\n",
    "        else:\n",
    "            thetas[1] = rdk.dot_motiondirs\n",
    "\n",
    "        theta.append(rdk.dot_motiondirs)\n",
    "\n",
    "    fig, axs = plt.subplots(1, 3, subplot_kw={\"projection\": \"polar\"}, figsize=(10, 5))\n",
    "\n",
    "    axs[0].plot(*get_hist(thetas[0]), label=\"dots\")\n",
    "    axs[0].set_title(\"Subset Moving\")\n",
    "    axs[1].plot(*get_hist(thetas[1]), label=\"dots\")\n",
    "    axs[1].set_title(\"Subset Random\")\n",
    "    axs[2].plot(*get_hist(np.concatenate(theta)), label=\"dots\")\n",
    "    axs[2].set_title(\"Average\")\n",
    "\n",
    "    [ax.get_yaxis().set_visible(False) for ax in axs]\n",
    "    # [[ax.vlines([a], [0], [1], color=c, label=l, linestyle='--') for a, c, l in zip(angles, ['b', 'r'], ['global', 'subset'])] for ax in axs]\n",
    "    # [ax.legend() for ax in axs]\n",
    "\n",
    "    return params\n",
    "\n",
    "\n",
    "controls = {\n",
    "    \"fraction_subset\": widgets.FloatSlider(0.1, min=0.0, max=1.0, step=0.05),\n",
    "    \"p_subset\": widgets.FloatSlider(0.9, min=0.0, max=1.0, step=0.05),\n",
    "    \"p_background\": widgets.FloatSlider(0.2, min=0.0, max=1.0, step=0.1),\n",
    "    \"num_batches\": widgets.IntSlider(10, min=1, max=30, step=1),\n",
    "    \"num_examples_per_batch\": widgets.IntSlider(3, min=1, max=10, step=1),\n",
    "    # angle_s = widgets.IntSlider(90, min=0, max=360, step=10),\n",
    "    # angle_b = widgets.IntSlider(0, min=0, max=360, step=10),\n",
    "    \"diffusion\": widgets.IntSlider(0, min=0, max=360, step=1),\n",
    "    \"diffuse_subset\" : widgets.ToggleButton(value=False, description='Diffuse Subset ?'),\n",
    "    \"name\": widgets.Text(\n",
    "        value=\"gabriel\", placeholder=\"type your name\", description=\"Name\"\n",
    "    ),\n",
    "}\n"
   ]
  },
  {
   "cell_type": "code",
   "execution_count": null,
   "metadata": {},
   "outputs": [],
   "source": [
    "interactive_exp = widgets.interactive(plot_rdk_motions_and_launch, **controls)\n",
    "\n",
    "display(interactive_exp)\n",
    "\n",
    "exp = Experiment(interactive_exp.result,\n",
    " None, save_data=False, save_gif=False, randomize=False\n",
    ")\n",
    "\n",
    "button = widgets.Button(description=\"Lauch Experiment!\")\n",
    "output = widgets.Output()\n",
    "\n",
    "display(button, output)\n",
    "\n",
    "def on_button_clicked(button):\n",
    "    exp.__init__(interactive_exp.result, None, save_data=False, save_gif=False, randomize=False)\n",
    "    with output:\n",
    "        exp.run()\n",
    "\n",
    "    return exp\n",
    "\n",
    "button.on_click(on_button_clicked)"
   ]
  },
  {
   "cell_type": "code",
   "execution_count": null,
   "metadata": {},
   "outputs": [],
   "source": [
    "exp.results_pd.describe()[['absolute_error_global', 'absolute_error_subset']]"
   ]
  },
  {
   "cell_type": "code",
   "execution_count": null,
   "metadata": {},
   "outputs": [],
   "source": [
    "exp.params"
   ]
  }
 ],
 "metadata": {
  "colab": {
   "provenance": []
  },
  "kernelspec": {
   "display_name": "Python 3 (ipykernel)",
   "language": "python",
   "name": "python3"
  },
  "language_info": {
   "codemirror_mode": {
    "name": "ipython",
    "version": 3
   },
   "file_extension": ".py",
   "mimetype": "text/x-python",
   "name": "python",
   "nbconvert_exporter": "python",
   "pygments_lexer": "ipython3",
   "version": "3.10.8"
  },
  "vscode": {
   "interpreter": {
    "hash": "d84a16a5ebb3d70881140343c1fdc62cccbf8e9df0753468b555bfe36a02b504"
   }
  }
 },
 "nbformat": 4,
 "nbformat_minor": 4
}
