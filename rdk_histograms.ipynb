{
  "cells": [
    {
      "cell_type": "code",
      "execution_count": 1,
      "metadata": {
        "id": "A4lOVFU6xI7y"
      },
      "outputs": [],
      "source": [
        "import matplotlib.pyplot as plt\n",
        "import numpy as np"
      ]
    },
    {
      "cell_type": "code",
      "execution_count": 2,
      "metadata": {},
      "outputs": [],
      "source": [
        "%load_ext autoreload\n",
        "%autoreload 2"
      ]
    },
    {
      "attachments": {},
      "cell_type": "markdown",
      "metadata": {},
      "source": [
        "## Theory"
      ]
    },
    {
      "cell_type": "code",
      "execution_count": 3,
      "metadata": {
        "id": "JCI4rLh68DIq"
      },
      "outputs": [],
      "source": [
        "def plot_rdk_hist(fraction_subset, p_subset, p_background, num_dots, num_directions):\n",
        "    p = {\"s\": p_subset, \"b\": p_background}\n",
        "    num_group = dict(s=int(fraction_subset * num_dots))\n",
        "    num_group[\"b\"] = num_dots - num_group[\"s\"]\n",
        "    mu = {}\n",
        "    sigma2 = {}\n",
        "    mu_dir = {}\n",
        "    sigma2_dir = {}\n",
        "    titles = {\"s\": \"subset\", \"b\": \"background\", \"t\": \"total\"}\n",
        "    dirn = {\"s\": -2, \"b\": num_directions // 2}\n",
        "    for k in \"sb\":\n",
        "        for d in \"ci\":\n",
        "            if d == \"c\":\n",
        "                p_cur = p[k]\n",
        "            else:\n",
        "                p_cur = 1 / num_directions\n",
        "            mu[k, d] = num_group[k] * p_cur\n",
        "            sigma2[k, d] = num_group[k] * p_cur * (1 - p_cur)\n",
        "        for param_dir, param_dict in [(mu_dir, mu), (sigma2_dir, sigma2)]:\n",
        "            param_dir[k] = np.ones(num_directions + 1) * param_dict[k, \"i\"]\n",
        "            param_dir[k][dirn[k]] = param_dict[k, \"c\"]\n",
        "            param_dir[k][-1] = param_dir[k][0]\n",
        "    mu_dir[\"t\"] = fraction_subset * mu_dir[\"s\"] + (1 - fraction_subset) * mu_dir[\"b\"]\n",
        "    sigma2_dir[\"t\"] = (\n",
        "        fraction_subset * sigma2_dir[\"s\"] + (1 - fraction_subset) * sigma2_dir[\"b\"]\n",
        "    )\n",
        "    theta = np.linspace(0, 2 * np.pi, num_directions + 1)\n",
        "    plt.figure(figsize=(16, 8))\n",
        "    for i, k in enumerate(\"sbt\"):\n",
        "        normfac = 1 / np.amin(mu_dir[k])\n",
        "        plt.subplot(1, 3, i + 1, polar=True)\n",
        "        plt.polar(theta, normfac * mu_dir[k], color=\"C\" + str(i))\n",
        "        s = np.sqrt(sigma2_dir[k]) * 1.96\n",
        "        plt.fill_between(\n",
        "            theta,\n",
        "            normfac * (mu_dir[k] - s),\n",
        "            normfac * (mu_dir[k] + s),\n",
        "            color=\"C\" + str(i),\n",
        "            alpha=0.2,\n",
        "        )\n",
        "        plt.title(titles[k] + \"\\n\")\n",
        "    plt.tight_layout()"
      ]
    },
    {
      "cell_type": "code",
      "execution_count": 97,
      "metadata": {
        "colab": {
          "base_uri": "https://localhost:8080/",
          "height": 421
        },
        "id": "GjBVj6AYxZS2",
        "outputId": "a00b95b3-0550-419c-be0f-a9fc61ca6b26"
      },
      "outputs": [
        {
          "data": {
            "application/vnd.jupyter.widget-view+json": {
              "model_id": "bdce3c0148284185ab912588515ba778",
              "version_major": 2,
              "version_minor": 0
            },
            "text/plain": [
              "interactive(children=(FloatSlider(value=0.1, description='fraction_subset', max=1.0), FloatSlider(value=0.9, d…"
            ]
          },
          "metadata": {},
          "output_type": "display_data"
        }
      ],
      "source": [
        "import ipywidgets as widgets\n",
        "\n",
        "\n",
        "@widgets.interact(\n",
        "    fraction_subset=widgets.FloatSlider(0.1, min=0.0, max=1.0, step=0.1),\n",
        "    p_subset=widgets.FloatSlider(0.9, min=0.0, max=1.0, step=0.1),\n",
        "    p_background=widgets.FloatSlider(0.2, min=0.0, max=1.0, step=0.1),\n",
        "    num_dots=widgets.IntSlider(500, min=10, max=1000, step=10),\n",
        "    num_directions=widgets.IntSlider(180, min=10, max=360, step=10),\n",
        ")\n",
        "def plot_interactive(fraction_subset, p_subset, p_background, num_dots, num_directions):\n",
        "    plot_rdk_hist(fraction_subset, p_subset, p_background, num_dots, num_directions)"
      ]
    },
    {
      "attachments": {},
      "cell_type": "markdown",
      "metadata": {},
      "source": [
        "## From RDK actual sampling"
      ]
    },
    {
      "cell_type": "code",
      "execution_count": 4,
      "metadata": {},
      "outputs": [
        {
          "name": "stdout",
          "output_type": "stream",
          "text": [
            "94\n",
            "pygame 2.1.2 (SDL 2.0.16, Python 3.10.8)\n",
            "Hello from the pygame community. https://www.pygame.org/contribute.html\n"
          ]
        }
      ],
      "source": [
        "from rdktools.rdk_params import Params, get_random_params\n",
        "from rdktools.rdk_stimuli import RDK\n",
        "from rdktools.rdk_experiment import other_angle, Experiment"
      ]
    },
    {
      "cell_type": "code",
      "execution_count": 5,
      "metadata": {},
      "outputs": [],
      "source": [
        "import ipywidgets as widgets\n",
        "from IPython.display import display, HTML\n",
        "\n",
        "\n",
        "def get_hist(theta, nbins=50):\n",
        "\n",
        "    radii, thetas = [list(d) for d in np.histogram(theta, bins=nbins)[:2]]\n",
        "\n",
        "    thetas = [(r1 + r2) / 2 for r1, r2 in zip(thetas[:-1], thetas[1:])]\n",
        "    thetas.append(thetas[0]), radii.append(radii[0])\n",
        "\n",
        "    thetas = np.deg2rad(thetas)\n",
        "    radii = np.array(radii)  # / np.max(radii)\n",
        "\n",
        "    return thetas, radii\n",
        "\n",
        "\n",
        "def plot_rdk(rdk):\n",
        "\n",
        "    thetas = [[[] for _ in range(2)] for _ in range(len(rdk.subset_coherences) +1 )]\n",
        "\n",
        "    rdk.sample_dots(rdk.max_radius, rdk.ndots)\n",
        "\n",
        "    for _ in range(int(1000)):\n",
        "        rdk.update()\n",
        "        for i, (rand, p, t) in enumerate(zip(rdk.rand[1:], rdk.subset_coherences, rdk.subset_temp_coherences)) : \n",
        "            if (rand < p) and t: \n",
        "                thetas[i][0].append(rdk.dot_motiondirs)\n",
        "            else : \n",
        "                thetas[i][1].append(rdk.dot_motiondirs)\n",
        "\n",
        "        thetas[-1][0].append(rdk.dot_motiondirs)\n",
        "        thetas[-1][1].append(rdk.dot_motiondirs)\n",
        "\n",
        "    thetas = [[np.concatenate(t) if t != [] else [] for t in th  ] for th in thetas]\n",
        "\n",
        "    fig, axs = plt.subplots(2, len(thetas), subplot_kw={\"projection\": \"polar\"}, figsize=(10, 5))\n",
        "\n",
        "    for i, (ax , th) in enumerate(zip(axs.T[:-1], thetas[:-1])) : \n",
        "            \n",
        "        ax[0].plot(*get_hist(th[0]), label=\"dots\")\n",
        "        ax[0].set_title(f\"Subset {i} Temp Moving\")\n",
        "\n",
        "        ax[1].plot(*get_hist(th[1]), label=\"dots\")\n",
        "        ax[1].set_title(f\"Subset {i} Moving\")\n",
        "\n",
        "    \n",
        "    axs[0][-1].plot(*get_hist(thetas[-1][0]), label=\"dots\")\n",
        "    axs[0][-1].set_title(\"Average\")\n",
        "\n",
        "    [[ax.get_yaxis().set_visible(False) for ax in axx] for axx in axs]\n",
        "    # [[ax.vlines([a], [0], [1], color=c, label=l, linestyle='--') for a, c, l in zip(angles, ['b', 'r'], ['global', 'subset'])] for ax in axs]\n",
        "    # [ax.legend() for ax in axs]\n",
        "\n",
        "\n",
        "def plot_rdk_motions_and_launch(\n",
        "    p1, \n",
        "    p2,\n",
        "    f1,\n",
        "    f2, \n",
        "    t1, \n",
        "    t2,\n",
        "    n_dots,\n",
        "    diffusion,\n",
        "    diffuse_subset,\n",
        "    name,\n",
        "    # comod,\n",
        "    # n_angles,\n",
        "    # color_dots,\n",
        "):\n",
        "\n",
        "    params = Params(\n",
        "        N_TRIALS_PER_BATCH=10,\n",
        "        N_BATCH=1,\n",
        "        TEMPORAL_COHERENCES=[t1, t2],\n",
        "        SPATIAL_COHERENCES=[p1, p2],\n",
        "        SUBSET_FRACTIONS=[f1, f2],\n",
        "        DENSITY=n_dots / np.pi / (150 ** 2),\n",
        "        DIFFUSION_SCALE=diffusion,\n",
        "        DIFFUSE_SUBSET=diffuse_subset,\n",
        "        NAME=name,\n",
        "    )\n",
        "\n",
        "    angles = [0, 90]\n",
        "\n",
        "    rdk = RDK(None, params)\n",
        "    rdk.new_sample(angles)\n",
        "    angles = np.deg2rad(angles)\n",
        "\n",
        "    plot_rdk(rdk)\n",
        "\n",
        "    return params\n",
        "\n",
        "\n",
        "style = {\"description_width\": \"initial\"}\n",
        "\n",
        "controls = {\n",
        "    \"p1\": widgets.FloatSlider(0.5, min=0.0, max=1.0, step=0.05, style=style),\n",
        "    \"p2\": widgets.FloatSlider(0.1, min=0.0, max=1.0, step=0.05, style=style),\n",
        "    \"f1\": widgets.FloatSlider(\n",
        "        0.1, min=0.0, max=1.0, step=0.05, style=style\n",
        "    ),\n",
        "    \"f2\": widgets.FloatSlider(\n",
        "        0.5, min=0.0, max=1.0, step=0.05, style=style\n",
        "    ),\n",
        "    \"t1\": widgets.FloatSlider(0.7, min=0.0, max=1.0, step=0.05, style=style),\n",
        "    \"t2\": widgets.FloatSlider(0.1, min=0.0, max=1.0, step=0.05, style=style),\n",
        "    \"n_dots\": widgets.IntSlider(\n",
        "        value=100, min=10, max=1000, step=10, style=style\n",
        "    ),\n",
        "    # \"num_batches\": widgets.IntSlider(10, min=1, max=30, step=1, style=style),\n",
        "    # \"num_examples_per_batch\": widgets.IntSlider(3, min=1, max=10, step=1, style=style),\n",
        "    # angle_s = widgets.IntSlider(90, min=0, max=360, step=10),\n",
        "    # angle_b = widgets.IntSlider(0, min=0, max=360, step=10),\n",
        "    \"diffusion\": widgets.IntSlider(0, min=0, max=360, step=1, style=style),\n",
        "    \"diffuse_subset\": widgets.ToggleButton(\n",
        "        value=False, description=\"Diffuse Subset ?\", style=style\n",
        "    ),\n",
        "    #\"comod\": widgets.ToggleButton(value=False, description=\"COMOD ?\", style=style),\n",
        "    #\"color_dots\": widgets.ToggleButton(value=False, description=\"COLOR ?\", style=style),\n",
        "    #\"n_angles\": widgets.IntSlider(4, min=2, max=20, step=1, style=style),\n",
        "    \"name\": widgets.Text(\n",
        "        value=\"gabriel\", placeholder=\"type your name\", description=\"Name\", style=style\n",
        "    ),\n",
        "}"
      ]
    },
    {
      "cell_type": "code",
      "execution_count": 59,
      "metadata": {},
      "outputs": [
        {
          "data": {
            "application/vnd.jupyter.widget-view+json": {
              "model_id": "44cffe0a8f524767b0c27e139522429d",
              "version_major": 2,
              "version_minor": 0
            },
            "text/plain": [
              "interactive(children=(FloatSlider(value=0.5, description='p1', max=1.0, step=0.05, style=SliderStyle(descripti…"
            ]
          },
          "metadata": {},
          "output_type": "display_data"
        },
        {
          "data": {
            "application/vnd.jupyter.widget-view+json": {
              "model_id": "d3b40e332e7a4fd6844ef7efbd1cb4e9",
              "version_major": 2,
              "version_minor": 0
            },
            "text/plain": [
              "Button(description='Lauch Experiment!', style=ButtonStyle())"
            ]
          },
          "metadata": {},
          "output_type": "display_data"
        },
        {
          "data": {
            "application/vnd.jupyter.widget-view+json": {
              "model_id": "ed1d38e3a8db400f8c53be52567ae892",
              "version_major": 2,
              "version_minor": 0
            },
            "text/plain": [
              "Output()"
            ]
          },
          "metadata": {},
          "output_type": "display_data"
        }
      ],
      "source": [
        "interactive_exp = widgets.interactive(\n",
        "    plot_rdk_motions_and_launch, **controls, layout={\"width\": \"5000px\"}\n",
        ")\n",
        "\n",
        "display(interactive_exp)\n",
        "\n",
        "exp = Experiment(\n",
        "    interactive_exp.result, None, save_data=False, save_gif=False, randomize=False\n",
        ")\n",
        "\n",
        "button = widgets.Button(description=\"Lauch Experiment!\")\n",
        "output = widgets.Output()\n",
        "\n",
        "display(button, output)\n",
        "\n",
        "\n",
        "def on_button_clicked(button):\n",
        "    exp.__init__(\n",
        "        interactive_exp.result, None, save_data=False, save_gif=False, randomize=False\n",
        "    )\n",
        "    with output:\n",
        "        exp.run()\n",
        "\n",
        "    return exp\n",
        "\n",
        "\n",
        "button.on_click(on_button_clicked)"
      ]
    },
    {
      "cell_type": "code",
      "execution_count": 8,
      "metadata": {},
      "outputs": [
        {
          "data": {
            "text/plain": [
              "Params(NAME='gabriel', WINDOW_WIDTH=300, WINDOW_HEIGHT=300, APERTURE_RADIUS=150, WINDOW_NAME='Random Dot Kinematogram', TICK_RATE=60, TIME_FIX=20, TIME_ISI=30, TIME_RDK=300, TIME_ITI=10, DENSITY=0.0014147106052612918, N_DOTS=94, DOT_SIZE=3, DOT_SPEED=4, DOT_ANGLES=None, N_TRIALS_PER_BATCH=10, N_BATCH=1, DOT_REPETITIONS=1, SPATIAL_COHERENCES=[0.5, 0.1], SUBSET_FRACTIONS=[0.1, 0.5], TEMPORAL_COHERENCES=[0.7, 0.1], COMOD=False, N_ANGLES=2, DIFFUSION_SCALE=0, DIFFUSE_SUBSET=False, APERTURE_WIDTH=4, FIX_SIZE=(5, 5), FIX_WIDTH=2, COL_BLACK=(0, 0, 0), COL_WHITE=(255, 255, 255), COL_BLUE=(30, 144, 255), COL_RED=(178, 34, 34), DOT_COLOR=(255, 255, 255), WINDOW_COLOUR=(0, 0, 0), APERTURE_COLOR=(255, 255, 255), FIX_COLOR=(255, 255, 255), COLOR_GROUPS=False)"
            ]
          },
          "execution_count": 8,
          "metadata": {},
          "output_type": "execute_result"
        }
      ],
      "source": [
        "exp.params"
      ]
    },
    {
      "cell_type": "code",
      "execution_count": null,
      "metadata": {},
      "outputs": [
        {
          "data": {
            "text/plain": [
              "(array([0, 1, 2]), array([ 93, 117, 790]))"
            ]
          },
          "execution_count": 48,
          "metadata": {},
          "output_type": "execute_result"
        }
      ],
      "source": [
        "subset_ratios = [0.1, 0.1, 0.8]\n",
        "np.unique([np.random.multinomial(1, subset_ratios).argmax() for _ in range(1000)], return_counts=True)"
      ]
    },
    {
      "cell_type": "code",
      "execution_count": null,
      "metadata": {},
      "outputs": [
        {
          "data": {
            "text/html": [
              "<div>\n",
              "<style scoped>\n",
              "    .dataframe tbody tr th:only-of-type {\n",
              "        vertical-align: middle;\n",
              "    }\n",
              "\n",
              "    .dataframe tbody tr th {\n",
              "        vertical-align: top;\n",
              "    }\n",
              "\n",
              "    .dataframe thead th {\n",
              "        text-align: right;\n",
              "    }\n",
              "</style>\n",
              "<table border=\"1\" class=\"dataframe\">\n",
              "  <thead>\n",
              "    <tr style=\"text-align: right;\">\n",
              "      <th></th>\n",
              "      <th>absolute_error_subset</th>\n",
              "    </tr>\n",
              "  </thead>\n",
              "  <tbody>\n",
              "    <tr>\n",
              "      <th>count</th>\n",
              "      <td>10.000000</td>\n",
              "    </tr>\n",
              "    <tr>\n",
              "      <th>mean</th>\n",
              "      <td>94.849319</td>\n",
              "    </tr>\n",
              "    <tr>\n",
              "      <th>std</th>\n",
              "      <td>51.325793</td>\n",
              "    </tr>\n",
              "    <tr>\n",
              "      <th>min</th>\n",
              "      <td>4.112588</td>\n",
              "    </tr>\n",
              "    <tr>\n",
              "      <th>25%</th>\n",
              "      <td>71.118416</td>\n",
              "    </tr>\n",
              "    <tr>\n",
              "      <th>50%</th>\n",
              "      <td>80.821584</td>\n",
              "    </tr>\n",
              "    <tr>\n",
              "      <th>75%</th>\n",
              "      <td>126.887170</td>\n",
              "    </tr>\n",
              "    <tr>\n",
              "      <th>max</th>\n",
              "      <td>175.557079</td>\n",
              "    </tr>\n",
              "  </tbody>\n",
              "</table>\n",
              "</div>"
            ],
            "text/plain": [
              "       absolute_error_subset\n",
              "count              10.000000\n",
              "mean               94.849319\n",
              "std                51.325793\n",
              "min                 4.112588\n",
              "25%                71.118416\n",
              "50%                80.821584\n",
              "75%               126.887170\n",
              "max               175.557079"
            ]
          },
          "execution_count": 8,
          "metadata": {},
          "output_type": "execute_result"
        }
      ],
      "source": [
        "exp.results_pd.describe()[[\"absolute_error_subset\"]]"
      ]
    },
    {
      "cell_type": "code",
      "execution_count": 92,
      "metadata": {},
      "outputs": [
        {
          "data": {
            "image/png": "[encoded data removed]",
            "text/plain": [
              "<Figure size 1000x500 with 6 Axes>"
            ]
          },
          "metadata": {},
          "output_type": "display_data"
        }
      ],
      "source": [
        "\n",
        "params = Params(\n",
        "    N_TRIALS_PER_BATCH=20,\n",
        "    N_BATCH=1,\n",
        "    TEMPORAL_COHERENCES=[0.1, 0.9],\n",
        "    SUBSET_FRACTIONS=[0.05, 0.05],\n",
        "    SPATIAL_COHERENCES=[0.7, 0.7],\n",
        "    DIFFUSION_SCALE=3,\n",
        "    DIFFUSE_SUBSET=True,\n",
        "    NAME='Gabriel',\n",
        "    COMOD=False,\n",
        "    N_ANGLES=2,\n",
        "    COLOR_GROUPS=False,\n",
        "    DENSITY=300 / np.pi / (150 ** 2),\n",
        "\n",
        ")\n",
        "angles = [0, 90]\n",
        "\n",
        "rdk = RDK(None, params)\n",
        "rdk.new_sample(angles)\n",
        "angles = np.deg2rad(angles)\n",
        "\n",
        "plot_rdk(rdk)\n",
        "exp = Experiment(params=params, randomize=False)\n"
      ]
    },
    {
      "cell_type": "code",
      "execution_count": 93,
      "metadata": {},
      "outputs": [],
      "source": [
        "exp.run()\n"
      ]
    },
    {
      "cell_type": "code",
      "execution_count": 82,
      "metadata": {},
      "outputs": [],
      "source": [
        "max_mod_diff = lambda angle, chosen_angle :  np.minimum(\n",
        "                    np.abs(angle - chosen_angle),\n",
        "                    np.abs(angle - 360 - chosen_angle) % 180,\n",
        "                )"
      ]
    },
    {
      "cell_type": "code",
      "execution_count": 94,
      "metadata": {},
      "outputs": [
        {
          "data": {
            "text/plain": [
              "[38.247193319288144, 57.87802081114289]"
            ]
          },
          "execution_count": 94,
          "metadata": {},
          "output_type": "execute_result"
        }
      ],
      "source": [
        "[max_mod_diff(exp.results_pd['chosen_angles'], exp.results_pd[f'angles_{i}']).mean() for i in range(2)]"
      ]
    },
    {
      "attachments": {},
      "cell_type": "markdown",
      "metadata": {},
      "source": [
        "## Comod Task"
      ]
    },
    {
      "cell_type": "code",
      "execution_count": null,
      "metadata": {},
      "outputs": [
        {
          "data": {
            "application/vnd.jupyter.widget-view+json": {
              "model_id": "fe45f1a3dd044b489caab6f3691b5c31",
              "version_major": 2,
              "version_minor": 0
            },
            "text/plain": [
              "interactive(children=(IntSlider(value=4, description='n_angles', max=20, min=2, style=SliderStyle(description_…"
            ]
          },
          "metadata": {},
          "output_type": "display_data"
        }
      ],
      "source": [
        "from rdktools.rdk_stimuli import RDK\n",
        "\n",
        "\n",
        "def plot_comod_rdk(n_angles):\n",
        "\n",
        "    coherences = [1 / n_angles for _ in range(n_angles)]\n",
        "\n",
        "    angles = np.linspace(0, 360, n_angles, endpoint=False)\n",
        "    p_subset = [1 / n_angles for _ in range(n_angles)]\n",
        "    params = Params(DOT_COHERENCE=coherences, N_DOTS=500)\n",
        "\n",
        "    rdk = RDK(None, params, angles)\n",
        "\n",
        "    plot_rdk(rdk, coherences[0])\n",
        "\n",
        "\n",
        "controls = {\"n_angles\": widgets.IntSlider(4, min=2, max=20, step=1, style=style)}\n",
        "\n",
        "interactive_plot = widgets.interactive(\n",
        "    plot_comod_rdk, **controls, layout={\"width\": \"5000px\"}\n",
        ")\n",
        "display(interactive_plot)"
      ]
    },
    {
      "cell_type": "code",
      "execution_count": null,
      "metadata": {},
      "outputs": [],
      "source": [
        "spaced_out = np.linspace(0, 360, 4, endpoint=False)"
      ]
    },
    {
      "cell_type": "code",
      "execution_count": null,
      "metadata": {},
      "outputs": [],
      "source": [
        "angles = np.random.randint(0, 360, 10)"
      ]
    },
    {
      "cell_type": "code",
      "execution_count": null,
      "metadata": {},
      "outputs": [
        {
          "ename": "ValueError",
          "evalue": "setting an array element with a sequence.",
          "output_type": "error",
          "traceback": [
            "\u001b[0;31m---------------------------------------------------------------------------\u001b[0m",
            "\u001b[0;31mTypeError\u001b[0m                                 Traceback (most recent call last)",
            "\u001b[0;31mTypeError\u001b[0m: only size-1 arrays can be converted to Python scalars",
            "\nThe above exception was the direct cause of the following exception:\n",
            "\u001b[0;31mValueError\u001b[0m                                Traceback (most recent call last)",
            "Cell \u001b[0;32mIn [106], line 2\u001b[0m\n\u001b[1;32m      1\u001b[0m v_sum \u001b[39m=\u001b[39m np\u001b[39m.\u001b[39mvectorize(\u001b[39mlambda\u001b[39;00m d : spaced_out\u001b[39m+\u001b[39md)\n\u001b[0;32m----> 2\u001b[0m v_sum(angles)\n",
            "File \u001b[0;32m~/anaconda3/envs/RDK/lib/python3.10/site-packages/numpy/lib/function_base.py:2328\u001b[0m, in \u001b[0;36mvectorize.__call__\u001b[0;34m(self, *args, **kwargs)\u001b[0m\n\u001b[1;32m   2325\u001b[0m     vargs \u001b[39m=\u001b[39m [args[_i] \u001b[39mfor\u001b[39;00m _i \u001b[39min\u001b[39;00m inds]\n\u001b[1;32m   2326\u001b[0m     vargs\u001b[39m.\u001b[39mextend([kwargs[_n] \u001b[39mfor\u001b[39;00m _n \u001b[39min\u001b[39;00m names])\n\u001b[0;32m-> 2328\u001b[0m \u001b[39mreturn\u001b[39;00m \u001b[39mself\u001b[39;49m\u001b[39m.\u001b[39;49m_vectorize_call(func\u001b[39m=\u001b[39;49mfunc, args\u001b[39m=\u001b[39;49mvargs)\n",
            "File \u001b[0;32m~/anaconda3/envs/RDK/lib/python3.10/site-packages/numpy/lib/function_base.py:2414\u001b[0m, in \u001b[0;36mvectorize._vectorize_call\u001b[0;34m(self, func, args)\u001b[0m\n\u001b[1;32m   2411\u001b[0m outputs \u001b[39m=\u001b[39m ufunc(\u001b[39m*\u001b[39minputs)\n\u001b[1;32m   2413\u001b[0m \u001b[39mif\u001b[39;00m ufunc\u001b[39m.\u001b[39mnout \u001b[39m==\u001b[39m \u001b[39m1\u001b[39m:\n\u001b[0;32m-> 2414\u001b[0m     res \u001b[39m=\u001b[39m asanyarray(outputs, dtype\u001b[39m=\u001b[39;49motypes[\u001b[39m0\u001b[39;49m])\n\u001b[1;32m   2415\u001b[0m \u001b[39melse\u001b[39;00m:\n\u001b[1;32m   2416\u001b[0m     res \u001b[39m=\u001b[39m \u001b[39mtuple\u001b[39m([asanyarray(x, dtype\u001b[39m=\u001b[39mt)\n\u001b[1;32m   2417\u001b[0m                  \u001b[39mfor\u001b[39;00m x, t \u001b[39min\u001b[39;00m \u001b[39mzip\u001b[39m(outputs, otypes)])\n",
            "\u001b[0;31mValueError\u001b[0m: setting an array element with a sequence."
          ]
        }
      ],
      "source": [
        "v_sum = np.vectorize(lambda d: spaced_out + d, signature=\"(n),(d)->(n, d)\")\n",
        "v_sum(angles)"
      ]
    },
    {
      "cell_type": "code",
      "execution_count": null,
      "metadata": {},
      "outputs": [
        {
          "data": {
            "text/plain": [
              "(10, 4)"
            ]
          },
          "execution_count": 109,
          "metadata": {},
          "output_type": "execute_result"
        }
      ],
      "source": []
    },
    {
      "cell_type": "code",
      "execution_count": null,
      "metadata": {},
      "outputs": [
        {
          "data": {
            "text/plain": [
              "<Group(500 sprites)>"
            ]
          },
          "execution_count": 86,
          "metadata": {},
          "output_type": "execute_result"
        }
      ],
      "source": [
        "rdk.dots"
      ]
    },
    {
      "cell_type": "code",
      "execution_count": null,
      "metadata": {},
      "outputs": [
        {
          "data": {
            "text/plain": [
              "1"
            ]
          },
          "execution_count": 81,
          "metadata": {},
          "output_type": "execute_result"
        }
      ],
      "source": [
        "np.random.randint(0, 4)"
      ]
    },
    {
      "cell_type": "code",
      "execution_count": null,
      "metadata": {},
      "outputs": [
        {
          "data": {
            "text/plain": [
              "array([  0.,  90., 180., 270.])"
            ]
          },
          "execution_count": 72,
          "metadata": {},
          "output_type": "execute_result"
        }
      ],
      "source": [
        "angles"
      ]
    }
  ],
  "metadata": {
    "colab": {
      "provenance": []
    },
    "kernelspec": {
      "display_name": "Python 3.10.8 ('RDK')",
      "language": "python",
      "name": "python3"
    },
    "language_info": {
      "codemirror_mode": {
        "name": "ipython",
        "version": 3
      },
      "file_extension": ".py",
      "mimetype": "text/x-python",
      "name": "python",
      "nbconvert_exporter": "python",
      "pygments_lexer": "ipython3",
      "version": "3.10.8"
    },
    "vscode": {
      "interpreter": {
        "hash": "d84a16a5ebb3d70881140343c1fdc62cccbf8e9df0753468b555bfe36a02b504"
      }
    }
  },
  "nbformat": 4,
  "nbformat_minor": 0
}
